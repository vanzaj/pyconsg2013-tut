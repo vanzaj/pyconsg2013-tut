{
 "metadata": {
  "name": "01-IPy-notebook-overview"
 },
 "nbformat": 3,
 "nbformat_minor": 0,
 "worksheets": [
  {
   "cells": [
    {
     "cell_type": "heading",
     "level": 1,
     "metadata": {},
     "source": [
      "Why IPython notebook is a BigDeal (tm)"
     ]
    },
    {
     "cell_type": "markdown",
     "metadata": {},
     "source": [
      "## 1. Literate programming for all python enthusiasts\n",
      "## 2. Reproducible research"
     ]
    },
    {
     "cell_type": "code",
     "collapsed": false,
     "input": [
      "from IPython.display import HTML\n",
      "#HTML('<iframe src=\"http://en.m.wikipedia.org/wiki/Literate_programming\" width=800 height=400>')"
     ],
     "language": "python",
     "metadata": {},
     "outputs": [],
     "prompt_number": 8
    },
    {
     "cell_type": "heading",
     "level": 2,
     "metadata": {},
     "source": [
      "Cell types"
     ]
    },
    {
     "cell_type": "markdown",
     "metadata": {},
     "source": [
      "* Code\n",
      "* Headings (semantics)\n",
      "* Text (markdown)"
     ]
    },
    {
     "cell_type": "code",
     "collapsed": false,
     "input": [
      "# code cell (standard python)\n",
      "print('Welcome to PyConSG!')"
     ],
     "language": "python",
     "metadata": {},
     "outputs": [
      {
       "output_type": "stream",
       "stream": "stdout",
       "text": [
        "Welcome to PyConSG!\n"
       ]
      }
     ],
     "prompt_number": 2
    },
    {
     "cell_type": "markdown",
     "metadata": {},
     "source": [
      "click on \"Run Cell\" button on the toolbar or press Shift-Enter to execute the code inside a cell.\n",
      "\n",
      "\n",
      "each cell is like a mini editor where you can type normal python"
     ]
    },
    {
     "cell_type": "code",
     "collapsed": false,
     "input": [
      "def sq(x):\n",
      "    return x*x\n",
      "\n",
      "for i in xrange(5):\n",
      "    print sq(i)"
     ],
     "language": "python",
     "metadata": {},
     "outputs": [
      {
       "output_type": "stream",
       "stream": "stdout",
       "text": [
        "0\n",
        "1\n",
        "4\n",
        "9\n",
        "16\n"
       ]
      }
     ],
     "prompt_number": 3
    },
    {
     "cell_type": "code",
     "collapsed": false,
     "input": [
      "# standard import\n",
      "from datetime import datetime, timedelta\n",
      "today = datetime.today()\n",
      "print(\"Today is \" + today.strftime(\"%a %d %b %Y\"))"
     ],
     "language": "python",
     "metadata": {},
     "outputs": [
      {
       "output_type": "stream",
       "stream": "stdout",
       "text": [
        "Today is Mon 10 Jun 2013\n"
       ]
      }
     ],
     "prompt_number": 4
    },
    {
     "cell_type": "code",
     "collapsed": false,
     "input": [
      "# cells are in the same namespace\n",
      "print(\"In one year, today will be %s\" % (today + timedelta(days=365)).strftime(\"%A\"))"
     ],
     "language": "python",
     "metadata": {},
     "outputs": [
      {
       "output_type": "stream",
       "stream": "stdout",
       "text": [
        "In one year, today will be Tuesday\n"
       ]
      }
     ],
     "prompt_number": 5
    },
    {
     "cell_type": "markdown",
     "metadata": {},
     "source": [
      "Copy-paste standard python interpretor code"
     ]
    },
    {
     "cell_type": "code",
     "collapsed": false,
     "input": [
      ">>> class Point():\n",
      "...     pass\n",
      ">>> p = Point()\n",
      ">>> p.x, p.y = (0,0)"
     ],
     "language": "python",
     "metadata": {},
     "outputs": [],
     "prompt_number": 6
    },
    {
     "cell_type": "code",
     "collapsed": false,
     "input": [
      "p.x, p.y"
     ],
     "language": "python",
     "metadata": {},
     "outputs": [
      {
       "output_type": "pyout",
       "prompt_number": 7,
       "text": [
        "(0, 0)"
       ]
      }
     ],
     "prompt_number": 7
    },
    {
     "cell_type": "heading",
     "level": 2,
     "metadata": {},
     "source": [
      "Rich output"
     ]
    },
    {
     "cell_type": "markdown",
     "metadata": {},
     "source": [
      "* Text\n",
      "* Math (LaTeX via MathJax)\n",
      "* Images (png, svg)\n",
      "* Video\n",
      "* HTML\n",
      "* Javascript"
     ]
    },
    {
     "cell_type": "raw",
     "metadata": {},
     "source": [
      "This is a \"Raw Text\" cell. No interpretation of \"special/funny\" and\n",
      "   invisible characters.\n",
      "   \n",
      "Good for quotes and poetry..."
     ]
    },
    {
     "cell_type": "markdown",
     "metadata": {},
     "source": [
      "\n",
      "---\n",
      "\n",
      "[Markdown](http://en.wikipedia.org/wiki/Markdown) cells are processed. \n",
      "\n",
      "The syntax is very simple. A bit of _italic_ text. Some more __emphasis__.\n",
      "\n",
      "* item 1\n",
      "* item 2\n",
      "  - subitem\n",
      "\n",
      "----\n",
      "\n",
      "The real power comes when markdown is combined with [MathJax](http://en.wikipedia.org/wiki/MathJax) to write mathematical expressions using $\\LaTeX$ notation. \n",
      "\n",
      "Here's an example of an inline expression; a quadratic equation is written as: $ax^2 + bx + c = 0$. Everybody remembers how to solve those...\n",
      "\n",
      "$$\n",
      "x = \\frac{-b \\pm \\sqrt\\Delta}{2a}, \\textrm{where}\n",
      "\\Delta = b^2 - 4ac\n",
      "$$\n",
      "\n",
      "\n"
     ]
    },
    {
     "cell_type": "code",
     "collapsed": false,
     "input": [
      "from IPython.display import SVG\n",
      "SVG(url='http://upload.wikimedia.org/wikipedia/commons/3/35/Quadratic_eq_discriminant.svg')"
     ],
     "language": "python",
     "metadata": {},
     "outputs": [
      {
       "output_type": "pyout",
       "prompt_number": 8,
       "svg": [
        "<svg height=\"328.8125\" id=\"svg2\" version=\"1.1\" width=\"384.46875\" xmlns=\"http://www.w3.org/2000/svg\" xmlns:cc=\"http://creativecommons.org/ns#\" xmlns:dc=\"http://purl.org/dc/elements/1.1/\" xmlns:rdf=\"http://www.w3.org/1999/02/22-rdf-syntax-ns#\" xmlns:svg=\"http://www.w3.org/2000/svg\">\n",
        "  <defs id=\"defs4\"/>\n",
        "  <metadata id=\"metadata7\">\n",
        "    <rdf:RDF>\n",
        "      <cc:Work rdf:about=\"\">\n",
        "        <dc:format>image/svg+xml</dc:format>\n",
        "        <dc:type rdf:resource=\"http://purl.org/dc/dcmitype/StillImage\"/>\n",
        "        <dc:title/>\n",
        "      </cc:Work>\n",
        "    </rdf:RDF>\n",
        "  </metadata>\n",
        "  <g id=\"layer1\" transform=\"translate(-227.875,-515.28125)\">\n",
        "    <path d=\"m 396.03957,508.58885 c 0.24086,1.18497 0.48172,2.16349 0.72258,2.69549 0.88889,1.96331 1.77777,9.62501 2.66666,11.49255 0.88888,1.86753 1.77777,9.14615 2.66665,10.91792 0.88889,1.77177 1.77777,8.6673 2.66666,10.34329 0.88888,1.676 1.77777,8.18844 2.66665,9.76867 0.88889,1.58022 1.77777,7.70958 2.66666,9.19404 0.88888,1.48445 1.77777,7.23073 2.66665,8.61941 0.88889,1.38868 1.77777,6.75187 2.66666,8.04479 0.88888,1.29291 1.77777,6.27301 2.66665,7.47015 0.88889,1.19714 1.77777,5.79416 2.66666,6.89553 0.88888,1.10137 1.77777,5.31531 2.66665,6.3209 0.88889,1.0056 1.77777,4.83645 2.66666,5.74628 0.88887,0.90983 1.77777,4.35759 2.66665,5.17165 0.88889,0.81405 1.77777,3.87873 2.66666,4.59702 0.88887,0.71828 1.77776,3.39988 2.66665,4.02239 0.88889,0.62251 1.77776,2.92102 2.66665,3.44776 0.88888,0.52675 1.77777,2.44217 2.66665,2.87314 0.8889,0.43097 1.77777,1.96331 2.66666,2.29851 0.88888,0.3352 1.77777,1.48446 2.66665,1.72388 0.88889,0.23943 1.77777,1.0056 2.66666,1.14926 0.88888,0.14366 1.77777,0.52674 2.66665,0.57463 0.88889,0.0479 1.77777,0.0479 2.66666,0 0.88888,-0.0479 1.77777,-0.43097 2.66665,-0.57463 0.88889,-0.14366 1.77777,-0.90983 2.66665,-1.14926 0.88889,-0.23942 1.77777,-1.38868 2.66666,-1.72388 0.88888,-0.3352 1.77777,-1.86754 2.66665,-2.29851 0.88889,-0.43097 1.77777,-2.34639 2.66666,-2.87314 0.88888,-0.52674 1.77777,-2.82525 2.66665,-3.44776 0.88889,-0.62251 1.77777,-3.30411 2.66666,-4.02239 0.88888,-0.71829 1.77777,-3.78297 2.66665,-4.59702 0.88889,-0.81406 1.77777,-4.26182 2.66666,-5.17165 0.88888,-0.90983 1.77777,-4.74068 2.66665,-5.74628 0.88889,-1.00559 1.77777,-5.21953 2.66666,-6.3209 0.88888,-1.10137 1.77777,-5.69839 2.66665,-6.89553 0.88889,-1.19714 1.77777,-6.17724 2.66666,-7.47015 0.88888,-1.29292 1.77777,-6.65611 2.66665,-8.04479 0.88889,-1.38868 1.77777,-7.13496 2.66666,-8.61941 0.88888,-1.48446 1.77777,-7.61382 2.66665,-9.19404 0.88889,-1.58023 1.77777,-8.09267 2.66666,-9.76867 0.88888,-1.67599 1.77777,-8.57152 2.66665,-10.34329 0.88889,-1.77177 1.77777,-9.05039 2.66666,-10.91792 0.88888,-1.86754 1.77777,-9.52924 2.66665,-11.49255 0.2406,-0.53141 0.48119,-1.50837 0.72179,-2.69158\" id=\"path3972\" style=\"fill:none;stroke:#ff8400;stroke-width:5.26800013;stroke-miterlimit:4;stroke-opacity:1;stroke-dasharray:none;stroke-dashoffset:0\"/>\n",
        "    <path d=\"m 235.63886,508.9611 c 0.184,1.29274 0.368,2.34535 0.552,2.98964 0.88889,3.1126 1.77777,15.3713 2.66666,18.3881 0.88888,3.0168 1.77777,14.8925 2.66665,17.8135 0.88889,2.921 1.77777,14.4136 2.66666,17.2388 0.88888,2.8253 1.77777,13.9347 2.66665,16.6642 0.88889,2.7295 1.77777,13.4559 2.66666,16.0896 0.88888,2.6337 1.77777,12.977 2.66665,15.5149 0.88889,2.5379 1.77777,12.4982 2.66666,14.9403 0.88888,2.4422 1.77777,12.0193 2.66665,14.3657 0.88889,2.3464 1.77777,11.5404 2.66666,13.7911 0.88888,2.2506 1.77777,11.0616 2.66665,13.2164 0.88889,2.1549 1.77777,10.5827 2.66666,12.6418 0.88888,2.0591 1.77777,10.1039 2.66665,12.0672 0.88889,1.9633 1.77777,9.625 2.66666,11.4925 0.88888,1.8676 1.77777,9.1462 2.66665,10.918 0.88889,1.7717 1.77777,8.6673 2.66666,10.3433 0.88888,1.6759 1.77777,8.1884 2.66665,9.7686 0.88889,1.5802 1.77777,7.7096 2.66666,9.1941 0.88888,1.4844 1.77776,7.2307 2.66665,8.6194 0.88888,1.3887 1.77777,6.7518 2.66665,8.0448 0.88889,1.2929 1.77777,6.273 2.66666,7.4701 0.88888,1.1972 1.77777,5.7942 2.66665,6.8955 0.88889,1.1014 1.77777,5.3153 2.66666,6.3209 0.88888,1.0056 1.77777,4.8365 2.66665,5.7463 0.88889,0.9098 1.77777,4.3576 2.66666,5.1717 0.88888,0.814 1.77777,3.8787 2.66665,4.597 0.88889,0.7183 1.77777,3.3999 2.66666,4.0224 0.88888,0.6225 1.77777,2.921 2.66665,3.4477 0.88889,0.5268 1.77777,2.4422 2.66666,2.8732 0.88888,0.431 1.77777,1.9633 2.66665,2.2985 0.88889,0.3352 1.77777,1.4844 2.66666,1.7239 0.88888,0.2394 1.77777,1.0056 2.66665,1.1492 0.88889,0.1437 1.77777,0.5268 2.66666,0.5747 0.88888,0.048 1.77777,0.048 2.66665,0 0.88889,-0.048 1.77777,-0.431 2.66666,-0.5747 0.88888,-0.1436 1.77777,-0.9098 2.66665,-1.1492 0.88889,-0.2395 1.77777,-1.3887 2.66666,-1.7239 0.88888,-0.3352 1.77777,-1.8675 2.66665,-2.2985 0.88889,-0.431 1.77777,-2.3464 2.66666,-2.8732 0.88888,-0.5267 1.77777,-2.8252 2.66665,-3.4477 0.88889,-0.6225 1.77777,-3.3041 2.66666,-4.0224 0.88888,-0.7183 1.77777,-3.783 2.66665,-4.597 0.88889,-0.8141 1.77777,-4.2619 2.66666,-5.1717 0.88888,-0.9098 1.77777,-4.7407 2.66665,-5.7463 0.88889,-1.0056 1.77777,-5.2195 2.66666,-6.3209 0.88888,-1.1013 1.77777,-5.6983 2.66665,-6.8955 0.88889,-1.1971 1.77777,-6.1772 2.66666,-7.4701 0.88888,-1.293 1.77777,-6.6561 2.66665,-8.0448 0.88889,-1.3887 1.77777,-7.135 2.66665,-8.6194 0.88889,-1.4845 1.77777,-7.6139 2.66666,-9.1941 0.88888,-1.5802 1.77777,-8.0927 2.66665,-9.7686 0.88889,-1.676 1.77777,-8.5716 2.66666,-10.3433 0.88888,-1.7718 1.77777,-9.0504 2.66665,-10.918 0.88889,-1.8675 1.77777,-9.5292 2.66666,-11.4925 0.88888,-1.9633 1.77777,-10.0081 2.66665,-12.0672 0.88889,-2.0591 1.77777,-10.4869 2.66666,-12.6418 0.88888,-2.1548 1.77777,-10.9658 2.66665,-13.2164 0.88889,-2.2507 1.77777,-11.4447 2.66666,-13.7911 0.88888,-2.3464 1.77777,-11.9235 2.66665,-14.3657 0.88889,-2.4421 1.77777,-12.4024 2.66666,-14.9403 0.88888,-2.5379 1.77777,-12.8812 2.66665,-15.5149 0.88889,-2.6337 1.77777,-13.3601 2.66666,-16.0896 0.88888,-2.7295 1.77777,-13.8389 2.66665,-16.6642 0.88889,-2.8252 1.77777,-14.3178 2.66666,-17.2388 0.88888,-2.921 1.77777,-14.7967 2.66665,-17.8135 0.88889,-3.0168 1.77777,-15.2755 2.66666,-18.3881 0.18388,-0.64387 0.36776,-1.69554 0.55164,-2.98714\" id=\"path3963\" style=\"fill:none;stroke:#0000ff;stroke-width:5.26800013;stroke-miterlimit:4;stroke-opacity:1;stroke-dasharray:none;stroke-dashoffset:0\"/>\n",
        "    <path d=\"m 616.50773,700.93362 -394.63084,0\" id=\"path3827-4\" style=\"fill:none;stroke:#000000;stroke-width:2;stroke-linecap:butt;stroke-linejoin:miter;stroke-miterlimit:4;stroke-opacity:1;stroke-dasharray:none\"/>\n",
        "    <path d=\"m -146.55172,555.81049 a 6.8965516,6.8965516 0 1 1 -13.7931,0 6.8965516,6.8965516 0 1 1 13.7931,0 z\" id=\"path3851\" style=\"fill:#0000ff;stroke:#0000ff;stroke-width:2;stroke-miterlimit:4;stroke-opacity:1;stroke-dasharray:none;stroke-dashoffset:0\" transform=\"translate(422.4138,145.12313)\"/>\n",
        "    <path d=\"m -146.55172,555.81049 a 6.8965516,6.8965516 0 1 1 -13.7931,0 6.8965516,6.8965516 0 1 1 13.7931,0 z\" id=\"path3851-0\" style=\"fill:#0000ff;stroke:#0000ff;stroke-width:2;stroke-miterlimit:4;stroke-opacity:1;stroke-dasharray:none;stroke-dashoffset:0\" transform=\"translate(528.44827,145.12313)\"/>\n",
        "    <path d=\"m -146.55172,555.81049 a 6.8965516,6.8965516 0 1 1 -13.7931,0 6.8965516,6.8965516 0 1 1 13.7931,0 z\" id=\"path3851-9\" style=\"fill:#800000;stroke:#800000;stroke-width:2;stroke-miterlimit:4;stroke-opacity:1;stroke-dasharray:none;stroke-dashoffset:0\" transform=\"translate(675.86207,144.82756)\"/>\n",
        "    <path d=\"m -146.55172,555.81049 a 6.8965516,6.8965516 0 1 1 -13.7931,0 6.8965516,6.8965516 0 1 1 13.7931,0 z\" id=\"path3851-9-4\" style=\"fill:#000000;stroke:#000000;stroke-width:2;stroke-miterlimit:4;stroke-opacity:1;stroke-dasharray:none;stroke-dashoffset:0\" transform=\"matrix(0.5,0,0,0.5,535.48703,423.02838)\"/>\n",
        "    <text id=\"text3907\" style=\"font-size:22px;font-style:normal;font-variant:normal;font-weight:normal;font-stretch:normal;text-align:start;line-height:125%;letter-spacing:0px;word-spacing:0px;writing-mode:lr-tb;text-anchor:start;fill:#800000;fill-opacity:1;stroke:none;font-family:Corbel;-inkscape-font-specification:Corbel\" x=\"493.47751\" xml:space=\"preserve\" y=\"687.4137\"><tspan id=\"tspan3909\" style=\"font-style:normal;font-variant:normal;font-weight:normal;font-stretch:normal;fill:#800000;fill-opacity:1;font-family:DejaVu Sans;-inkscape-font-specification:DejaVu Sans\" x=\"493.47751\" y=\"687.4137\">\u0394 = 0</tspan></text>\n",
        "    <text id=\"text3907-8\" style=\"font-size:22px;font-style:normal;font-variant:normal;font-weight:normal;font-stretch:normal;text-align:start;line-height:125%;letter-spacing:0px;word-spacing:0px;writing-mode:lr-tb;text-anchor:start;fill:#ff8400;fill-opacity:1;stroke:none;font-family:Corbel;-inkscape-font-specification:Corbel\" x=\"500.83362\" xml:space=\"preserve\" y=\"586.14368\"><tspan id=\"tspan3909-8\" style=\"font-style:normal;font-variant:normal;font-weight:normal;font-stretch:normal;fill:#ff8400;fill-opacity:1;font-family:DejaVu Sans;-inkscape-font-specification:DejaVu Sans\" x=\"500.83362\" y=\"586.14368\">\u0394 &lt; 0</tspan></text>\n",
        "    <text id=\"text3907-8-2\" style=\"font-size:22px;font-style:normal;font-variant:normal;font-weight:normal;font-stretch:normal;text-align:start;line-height:125%;letter-spacing:0px;word-spacing:0px;writing-mode:lr-tb;text-anchor:start;fill:#0000ff;fill-opacity:1;stroke:none;font-family:Corbel;-inkscape-font-specification:Corbel\" x=\"292.76273\" xml:space=\"preserve\" y=\"683.0509\"><tspan id=\"tspan3909-8-4\" style=\"font-style:normal;font-variant:normal;font-weight:normal;font-stretch:normal;fill:#0000ff;fill-opacity:1;font-family:DejaVu Sans;-inkscape-font-specification:DejaVu Sans\" x=\"292.76273\" y=\"683.0509\">\u0394 &gt; 0</tspan></text>\n",
        "    <path d=\"m 458.76289,507.60306 0,341.06464\" id=\"path3827-1\" style=\"fill:none;stroke:#000000;stroke-width:2;stroke-linecap:butt;stroke-linejoin:miter;stroke-miterlimit:4;stroke-opacity:1;stroke-dasharray:none\"/>\n",
        "    <path d=\"m 462.92456,847.95403 c 0.21571,-1.118 0.43142,-2.03291 0.64713,-2.55582 0.88889,-2.1549 1.77777,-10.5827 2.66666,-12.6418 0.88888,-2.0591 1.77777,-10.1039 2.66665,-12.0672 0.88889,-1.9633 1.77777,-9.625 2.66666,-11.4925 0.88888,-1.8676 1.77777,-9.1462 2.66665,-10.918 0.88889,-1.7717 1.77777,-8.6673 2.66666,-10.3433 0.88888,-1.6759 1.77777,-8.1884 2.66665,-9.7686 0.88889,-1.5802 1.77777,-7.7096 2.66666,-9.1941 0.88888,-1.4844 1.77776,-7.2307 2.66665,-8.6194 0.88888,-1.3887 1.77777,-6.7518 2.66665,-8.0448 0.88889,-1.2929 1.77777,-6.273 2.66666,-7.4701 0.88888,-1.1972 1.77777,-5.7942 2.66665,-6.8955 0.88889,-1.1014 1.77777,-5.3153 2.66666,-6.3209 0.88888,-1.0056 1.77777,-4.8365 2.66665,-5.7463 0.88889,-0.9098 1.77777,-4.3576 2.66666,-5.1717 0.88888,-0.814 1.77777,-3.8787 2.66665,-4.597 0.88889,-0.7183 1.77777,-3.3999 2.66666,-4.0224 0.88888,-0.6225 1.77777,-2.921 2.66665,-3.4477 0.88889,-0.5268 1.77777,-2.4422 2.66666,-2.8732 0.88888,-0.431 1.77777,-1.9633 2.66665,-2.2985 0.88889,-0.3352 1.77777,-1.4844 2.66666,-1.7239 0.88888,-0.2394 1.77777,-1.0056 2.66665,-1.1492 0.88889,-0.1437 1.77777,-0.5268 2.66666,-0.5747 0.88888,-0.048 1.77777,-0.048 2.66665,0 0.88889,0.048 1.77777,0.431 2.66666,0.5747 0.88888,0.1436 1.77777,0.9098 2.66665,1.1492 0.88889,0.2395 1.77777,1.3887 2.66666,1.7239 0.88888,0.3352 1.77777,1.8675 2.66665,2.2985 0.88889,0.431 1.77777,2.3464 2.66666,2.8732 0.88888,0.5267 1.77777,2.8252 2.66665,3.4477 0.88889,0.6225 1.77777,3.3041 2.66666,4.0224 0.88888,0.7183 1.77777,3.783 2.66665,4.597 0.88889,0.8141 1.77777,4.2619 2.66666,5.1717 0.88888,0.9098 1.77777,4.7407 2.66665,5.7463 0.88889,1.0056 1.77777,5.2195 2.66666,6.3209 0.88888,1.1013 1.77777,5.6983 2.66665,6.8955 0.88889,1.1971 1.77777,6.1772 2.66666,7.4701 0.88888,1.293 1.77777,6.6561 2.66665,8.0448 0.88889,1.3887 1.77777,7.135 2.66665,8.6194 0.88889,1.4845 1.77777,7.6139 2.66666,9.1941 0.88888,1.5802 1.77777,8.0927 2.66665,9.7686 0.88889,1.676 1.77777,8.5716 2.66666,10.3433 0.88888,1.7718 1.77777,9.0504 2.66665,10.918 0.88889,1.8675 1.77777,9.5292 2.66666,11.4925 0.88888,1.9633 1.77777,10.0081 2.66665,12.0672 0.88889,2.0591 1.77777,10.4869 2.66666,12.6418 0.21592,0.52342 0.43184,1.4396 0.64776,2.5591\" id=\"path4015\" style=\"fill:none;stroke:#800000;stroke-width:5.26800013;stroke-miterlimit:4;stroke-opacity:1;stroke-dasharray:none;stroke-dashoffset:0\"/>\n",
        "  </g>\n",
        "</svg>"
       ],
       "text": [
        "<IPython.core.display.SVG at 0x103a96cd0>"
       ]
      }
     ],
     "prompt_number": 8
    },
    {
     "cell_type": "code",
     "collapsed": false,
     "input": [
      "from sympy import Symbol, cos\n",
      "from IPython.display import display\n",
      "%load_ext sympy.interactive.ipythonprinting"
     ],
     "language": "python",
     "metadata": {},
     "outputs": [],
     "prompt_number": 9
    },
    {
     "cell_type": "code",
     "collapsed": false,
     "input": [
      "x = Symbol('x')\n",
      "print( cos(x).series(x, 0, 7) )"
     ],
     "language": "python",
     "metadata": {},
     "outputs": [
      {
       "output_type": "stream",
       "stream": "stdout",
       "text": [
        "1 - x**2/2 + x**4/24 - x**6/720 + O(x**7)\n"
       ]
      }
     ],
     "prompt_number": 10
    },
    {
     "cell_type": "code",
     "collapsed": false,
     "input": [
      "display( cos(x).series(x, 0, 7) )"
     ],
     "language": "python",
     "metadata": {},
     "outputs": [
      {
       "latex": [
        "$$1 - \\frac{1}{2} x^{2} + \\frac{1}{24} x^{4} - \\frac{1}{720} x^{6} + \\mathcal{O}\\left(x^{7}\\right)$$"
       ],
       "output_type": "display_data",
       "png": "[encoded data removed]",
       "text": [
        "     2    4     6        \n",
        "    x    x     x     \u239b 7\u239e\n",
        "1 - \u2500\u2500 + \u2500\u2500 - \u2500\u2500\u2500 + O\u239dx \u23a0\n",
        "    2    24   720        "
       ]
      }
     ],
     "prompt_number": 11
    },
    {
     "cell_type": "code",
     "collapsed": false,
     "input": [
      "h = '''<table>\n",
      "<tr>\n",
      "<th>A header</th>\n",
      "<th>B Header</th>\n",
      "</tr>\n",
      "<tr>\n",
      "<td>A1</td>\n",
      "<td>B1</td>\n",
      "</tr>\n",
      "<tr>\n",
      "<td>A2</td>\n",
      "<td>B2</td>\n",
      "</tr>\n",
      "</table>'''\n",
      "HTML(h)"
     ],
     "language": "python",
     "metadata": {},
     "outputs": [
      {
       "html": [
        "<table>\n",
        "<tr>\n",
        "<th>A header</th>\n",
        "<th>B Header</th>\n",
        "</tr>\n",
        "<tr>\n",
        "<td>A1</td>\n",
        "<td>B1</td>\n",
        "</tr>\n",
        "<tr>\n",
        "<td>A2</td>\n",
        "<td>B2</td>\n",
        "</tr>\n",
        "</table>"
       ],
       "output_type": "pyout",
       "prompt_number": 12,
       "text": [
        "<IPython.core.display.HTML object at 0x103a96ad0>"
       ]
      }
     ],
     "prompt_number": 12
    },
    {
     "cell_type": "heading",
     "level": 2,
     "metadata": {},
     "source": [
      "IPython magic"
     ]
    },
    {
     "cell_type": "markdown",
     "metadata": {},
     "source": [
      "* help\n",
      "* code completion\n",
      "* magic commands\n",
      "* interaction with OS"
     ]
    },
    {
     "cell_type": "code",
     "collapsed": false,
     "input": [
      "datetime?"
     ],
     "language": "python",
     "metadata": {},
     "outputs": [],
     "prompt_number": 13
    },
    {
     "cell_type": "code",
     "collapsed": false,
     "input": [
      "%quickref"
     ],
     "language": "python",
     "metadata": {},
     "outputs": [],
     "prompt_number": 14
    },
    {
     "cell_type": "code",
     "collapsed": false,
     "input": [
      "%run scripts/hello.py"
     ],
     "language": "python",
     "metadata": {},
     "outputs": [
      {
       "output_type": "stream",
       "stream": "stdout",
       "text": [
        "hello world!\n"
       ]
      }
     ],
     "prompt_number": 15
    },
    {
     "cell_type": "heading",
     "level": 3,
     "metadata": {},
     "source": [
      "Interaction with OS"
     ]
    },
    {
     "cell_type": "code",
     "collapsed": false,
     "input": [
      "!cat scripts/hello.py"
     ],
     "language": "python",
     "metadata": {},
     "outputs": [
      {
       "output_type": "stream",
       "stream": "stdout",
       "text": [
        "#!/usr/bin/env python\r\n",
        "\r\n",
        "print(\"hello world!\")\r\n"
       ]
      }
     ],
     "prompt_number": 16
    },
    {
     "cell_type": "code",
     "collapsed": false,
     "input": [
      "files = !ls data/*.jpg"
     ],
     "language": "python",
     "metadata": {},
     "outputs": [],
     "prompt_number": 17
    },
    {
     "cell_type": "code",
     "collapsed": false,
     "input": [
      "files"
     ],
     "language": "python",
     "metadata": {},
     "outputs": [
      {
       "output_type": "pyout",
       "prompt_number": 18,
       "text": [
        "[data/pycon-logo.jpg]"
       ]
      }
     ],
     "prompt_number": 18
    },
    {
     "cell_type": "code",
     "collapsed": false,
     "input": [
      "!ls -l {files[0]}"
     ],
     "language": "python",
     "metadata": {},
     "outputs": [
      {
       "output_type": "stream",
       "stream": "stdout",
       "text": [
        "-rw-r--r--  1 ivan  staff  22535 May 19 15:34 data/pycon-logo.jpg\r\n"
       ]
      }
     ],
     "prompt_number": 19
    },
    {
     "cell_type": "code",
     "collapsed": false,
     "input": [
      "%%file scripts/sq_test.py\n",
      "def sq(x):\n",
      "    return x*x\n",
      "\n",
      "for i in xrange(5):\n",
      "    print sq(i)"
     ],
     "language": "python",
     "metadata": {},
     "outputs": [
      {
       "output_type": "stream",
       "stream": "stdout",
       "text": [
        "Overwriting scripts/sq_test.py\n"
       ]
      }
     ],
     "prompt_number": 20
    },
    {
     "cell_type": "code",
     "collapsed": false,
     "input": [
      "%load scripts/sq_test.py"
     ],
     "language": "python",
     "metadata": {},
     "outputs": [],
     "prompt_number": 21
    },
    {
     "cell_type": "code",
     "collapsed": false,
     "input": [
      "def sq(x):\n",
      "    return x*x\n",
      "\n",
      "for i in xrange(5):\n",
      "    print sq(i)"
     ],
     "language": "python",
     "metadata": {},
     "outputs": []
    },
    {
     "cell_type": "code",
     "collapsed": false,
     "input": [
      "%%bash\n",
      "echo $HOME\n",
      "ls -is -cool"
     ],
     "language": "python",
     "metadata": {},
     "outputs": [
      {
       "output_type": "stream",
       "stream": "stdout",
       "text": [
        "/Users/ivan\n",
        "total 352\n",
        "3139606 128 -rw-r--r--  1 ivan  65432 Jun 10 12:00 00-IPy-notebook-demo.ipynb\n",
        "3144340  56 -rw-r--r--  1 ivan  27518 Jun 10 00:05 01-IPy-notebook-overview.ipynb\n",
        "3159233  96 -rw-r--r--  1 ivan  48623 Jun 10 00:47 02-Basics.ipynb\n",
        "3139762   0 drwxr-xr-x  4 ivan    136 Jun 10 11:37 data\n",
        "3140875  72 -rw-r--r--  1 ivan  35667 Jun  9 23:58 sandbox.ipynb\n",
        "3147474   0 drwxr-xr-x  4 ivan    136 Jun 10 00:03 scripts\n"
       ]
      }
     ],
     "prompt_number": 4
    },
    {
     "cell_type": "code",
     "collapsed": false,
     "input": [
      "%%ruby\n",
      "puts \"Hello from Ruby #{RUBY_VERSION}\""
     ],
     "language": "python",
     "metadata": {},
     "outputs": [
      {
       "output_type": "stream",
       "stream": "stdout",
       "text": [
        "Hello from Ruby 1.8.7\n"
       ]
      }
     ],
     "prompt_number": 6
    },
    {
     "cell_type": "markdown",
     "metadata": {},
     "source": [
      "## IPython notebook specific\n",
      "\n",
      "* .ipynb files (JSON)\n",
      "* export to .py\n",
      "* cells split and merge\n",
      "* kernel restart\n",
      "* keyboard shortcuts"
     ]
    }
   ],
   "metadata": {}
  }
 ]
}